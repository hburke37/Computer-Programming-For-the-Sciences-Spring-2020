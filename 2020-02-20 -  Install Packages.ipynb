{
 "cells": [
  {
   "cell_type": "markdown",
   "metadata": {},
   "source": [
    "# Git For Windows"
   ]
  },
  {
   "cell_type": "markdown",
   "metadata": {},
   "source": [
    "https://git-scm.com/download/win"
   ]
  },
  {
   "cell_type": "markdown",
   "metadata": {},
   "source": [
    "# Course GitHub"
   ]
  },
  {
   "cell_type": "code",
   "execution_count": 23,
   "metadata": {},
   "outputs": [],
   "source": [
    "def get_course_github():\n",
    "    import os,sys\n",
    "    if not os.path.exists(name):\n",
    "        !git clone https://github.com/bblais/Computer-Programming-For-the-Sciences-Spring-2020 Computer-Programming-For-the-Sciences-Spring-2020\n",
    "    else:\n",
    "        !cd Computer-Programming-For-the-Sciences-Spring-2020; git pull https://github.com/bblais/Computer-Programming-For-the-Sciences-Spring-2020 \n",
    "        "
   ]
  },
  {
   "cell_type": "code",
   "execution_count": 22,
   "metadata": {},
   "outputs": [
    {
     "name": "stdout",
     "output_type": "stream",
     "text": [
      "Cloning into 'Computer-Programming-For-the-Sciences-Spring-2020'...\n",
      "remote: Enumerating objects: 80, done.\u001b[K\n",
      "remote: Counting objects: 100% (80/80), done.\u001b[K\n",
      "remote: Compressing objects: 100% (61/61), done.\u001b[K\n",
      "remote: Total 80 (delta 36), reused 56 (delta 15), pack-reused 0\u001b[K\n",
      "\u001b[KUnpacking objects: 100% (80/80), done.\n"
     ]
    }
   ],
   "source": [
    "get_course_github()"
   ]
  },
  {
   "cell_type": "markdown",
   "metadata": {},
   "source": [
    "# Pyndamics"
   ]
  },
  {
   "cell_type": "code",
   "execution_count": 3,
   "metadata": {},
   "outputs": [
    {
     "name": "stdout",
     "output_type": "stream",
     "text": [
      "Collecting git+git://github.com/bblais/pyndamics\n",
      "  Cloning git://github.com/bblais/pyndamics to /Users/bblais/tmp/pip-req-build-v5psw0qc\n",
      "  Running command git clone -q git://github.com/bblais/pyndamics /Users/bblais/tmp/pip-req-build-v5psw0qc\n",
      "Building wheels for collected packages: pyndamics\n",
      "  Building wheel for pyndamics (setup.py) ... \u001b[?25ldone\n",
      "\u001b[?25h  Created wheel for pyndamics: filename=pyndamics-0.0.8-py3-none-any.whl size=22769 sha256=b9873b48257cf21b1577e0ec951f918324f376c3d86d0d1428614e5f4772a4ce\n",
      "  Stored in directory: /Users/bblais/tmp/pip-ephem-wheel-cache-kv_cuixz/wheels/86/33/a1/c8dad4f3eee6be021be060d8db4be81a102072d9b434ec7c52\n",
      "Successfully built pyndamics\n",
      "Installing collected packages: pyndamics\n",
      "Successfully installed pyndamics-0.0.8\n",
      "Note: you may need to restart the kernel to use updated packages.\n"
     ]
    }
   ],
   "source": [
    "pip install \"git+git://github.com/bblais/pyndamics\" --upgrade"
   ]
  },
  {
   "cell_type": "markdown",
   "metadata": {},
   "source": [
    "# Emcee"
   ]
  },
  {
   "cell_type": "code",
   "execution_count": 4,
   "metadata": {},
   "outputs": [
    {
     "name": "stdout",
     "output_type": "stream",
     "text": [
      "Collecting emcee\n",
      "  Downloading emcee-3.0.2-py2.py3-none-any.whl (41 kB)\n",
      "\u001b[K     |████████████████████████████████| 41 kB 781 kB/s eta 0:00:01\n",
      "\u001b[?25hRequirement already satisfied, skipping upgrade: numpy in /Users/bblais/opt/anaconda3/lib/python3.7/site-packages (from emcee) (1.18.1)\n",
      "Installing collected packages: emcee\n",
      "  Attempting uninstall: emcee\n",
      "    Found existing installation: emcee 0.0.0\n",
      "    Uninstalling emcee-0.0.0:\n",
      "      Successfully uninstalled emcee-0.0.0\n",
      "Successfully installed emcee-3.0.2\n",
      "Note: you may need to restart the kernel to use updated packages.\n"
     ]
    }
   ],
   "source": [
    "pip install -U emcee"
   ]
  },
  {
   "cell_type": "markdown",
   "metadata": {},
   "source": [
    "# SIE"
   ]
  },
  {
   "cell_type": "code",
   "execution_count": 1,
   "metadata": {},
   "outputs": [
    {
     "name": "stdout",
     "output_type": "stream",
     "text": [
      "Collecting sie\n",
      "  Cloning git://github.com/bblais/Statistical-Inference-for-Everyone to /Users/bblais/tmp/pip-install-t792avbh/sie\n",
      "  Running command git clone -q git://github.com/bblais/Statistical-Inference-for-Everyone /Users/bblais/tmp/pip-install-t792avbh/sie\n",
      "Building wheels for collected packages: sie\n",
      "  Building wheel for sie (setup.py) ... \u001b[?25ldone\n",
      "\u001b[?25h  Created wheel for sie: filename=sie-0.0.5-py3-none-any.whl size=13228 sha256=4d11fc6a2a830399a8d21552dc1a7bd71f27926511aef84fe48765cc519232b2\n",
      "  Stored in directory: /Users/bblais/tmp/pip-ephem-wheel-cache-fzkdjjzi/wheels/24/4f/9e/df3f558b8f615c97e01eb1d3c58a1ff90af34f54016e75186b\n",
      "Successfully built sie\n",
      "Installing collected packages: sie\n",
      "  Attempting uninstall: sie\n",
      "    Found existing installation: sie 0.0.5\n",
      "    Uninstalling sie-0.0.5:\n",
      "      Successfully uninstalled sie-0.0.5\n",
      "Successfully installed sie-0.0.5\n",
      "Note: you may need to restart the kernel to use updated packages.\n"
     ]
    }
   ],
   "source": [
    "pip install \"git+git://github.com/bblais/Statistical-Inference-for-Everyone#egg=sie&subdirectory=python/sie\" --upgrade"
   ]
  },
  {
   "cell_type": "code",
   "execution_count": null,
   "metadata": {},
   "outputs": [],
   "source": []
  }
 ],
 "metadata": {
  "kernelspec": {
   "display_name": "Python 3",
   "language": "python",
   "name": "python3"
  },
  "language_info": {
   "codemirror_mode": {
    "name": "ipython",
    "version": 3
   },
   "file_extension": ".py",
   "mimetype": "text/x-python",
   "name": "python",
   "nbconvert_exporter": "python",
   "pygments_lexer": "ipython3",
   "version": "3.7.6"
  }
 },
 "nbformat": 4,
 "nbformat_minor": 4
}
