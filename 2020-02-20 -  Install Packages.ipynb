{
 "cells": [
  {
   "cell_type": "markdown",
   "metadata": {},
   "source": [
    "# Git For Windows"
   ]
  },
  {
   "cell_type": "markdown",
   "metadata": {},
   "source": [
    "https://git-scm.com/download/win"
   ]
  },
  {
   "cell_type": "markdown",
   "metadata": {},
   "source": [
    "# Course GitHub"
   ]
  },
  {
   "cell_type": "code",
   "execution_count": 5,
   "metadata": {},
   "outputs": [],
   "source": [
    "def get_course_github(name='Computer-Programming-For-the-Sciences-Spring-2020'):\n",
    "    import os,sys\n",
    "    if not os.path.exists(name):\n",
    "        !git clone https://github.com/bblais/Computer-Programming-For-the-Sciences-Spring-2020 Computer-Programming-For-the-Sciences-Spring-2020\n",
    "    else:\n",
    "        !cd Computer-Programming-For-the-Sciences-Spring-2020; git pull https://github.com/bblais/Computer-Programming-For-the-Sciences-Spring-2020 \n",
    "        "
   ]
  },
  {
   "cell_type": "code",
   "execution_count": 6,
   "metadata": {},
   "outputs": [
    {
     "name": "stdout",
     "output_type": "stream",
     "text": [
      "remote: Enumerating objects: 7, done.\u001b[K\n",
      "remote: Counting objects: 100% (7/7), done.\u001b[K\n",
      "remote: Compressing objects: 100% (1/1), done.\u001b[K\n",
      "remote: Total 4 (delta 3), reused 4 (delta 3), pack-reused 0\u001b[K\n",
      "\u001b[KUnpacking objects: 100% (4/4), done.\n",
      "From https://github.com/bblais/Computer-Programming-For-the-Sciences-Spring-2020\n",
      " * branch            HEAD       -> FETCH_HEAD\n",
      "Updating 60c07dc..bb4f43f\n",
      "Fast-forward\n",
      " 2020-02-20 -  Install Packages.ipynb | 40 \u001b[32m++++++++++++++++\u001b[m\u001b[31m--------------------\u001b[m\n",
      " 2020-02-20 -  Install Packages.py    | 10 \u001b[32m++++++++\u001b[m\u001b[31m-\u001b[m\n",
      " 2 files changed, 27 insertions(+), 23 deletions(-)\n"
     ]
    }
   ],
   "source": [
    "get_course_github()"
   ]
  },
  {
   "cell_type": "markdown",
   "metadata": {},
   "source": [
    "# Pyndamics"
   ]
  },
  {
   "cell_type": "code",
   "execution_count": 7,
   "metadata": {},
   "outputs": [
    {
     "name": "stdout",
     "output_type": "stream",
     "text": [
      "Collecting git+git://github.com/bblais/pyndamics\n",
      "  Cloning git://github.com/bblais/pyndamics to /Users/bblais/tmp/pip-req-build-mxtb4iv4\n",
      "  Running command git clone -q git://github.com/bblais/pyndamics /Users/bblais/tmp/pip-req-build-mxtb4iv4\n",
      "Building wheels for collected packages: pyndamics\n",
      "  Building wheel for pyndamics (setup.py) ... \u001b[?25ldone\n",
      "\u001b[?25h  Created wheel for pyndamics: filename=pyndamics-0.0.8-py3-none-any.whl size=22769 sha256=dd05a4dbfdbf646e175e27d7eca4ec89e1030f29730df166c31233fc98ae39a0\n",
      "  Stored in directory: /Users/bblais/tmp/pip-ephem-wheel-cache-pkqspr16/wheels/86/33/a1/c8dad4f3eee6be021be060d8db4be81a102072d9b434ec7c52\n",
      "Successfully built pyndamics\n",
      "Installing collected packages: pyndamics\n",
      "  Attempting uninstall: pyndamics\n",
      "    Found existing installation: pyndamics 0.0.8\n",
      "    Uninstalling pyndamics-0.0.8:\n",
      "      Successfully uninstalled pyndamics-0.0.8\n",
      "Successfully installed pyndamics-0.0.8\n",
      "Note: you may need to restart the kernel to use updated packages.\n"
     ]
    }
   ],
   "source": [
    "pip install \"git+git://github.com/bblais/pyndamics\" --upgrade"
   ]
  },
  {
   "cell_type": "markdown",
   "metadata": {},
   "source": [
    "# Emcee"
   ]
  },
  {
   "cell_type": "code",
   "execution_count": 4,
   "metadata": {},
   "outputs": [
    {
     "name": "stdout",
     "output_type": "stream",
     "text": [
      "Collecting emcee\n",
      "  Downloading emcee-3.0.2-py2.py3-none-any.whl (41 kB)\n",
      "\u001b[K     |████████████████████████████████| 41 kB 781 kB/s eta 0:00:01\n",
      "\u001b[?25hRequirement already satisfied, skipping upgrade: numpy in /Users/bblais/opt/anaconda3/lib/python3.7/site-packages (from emcee) (1.18.1)\n",
      "Installing collected packages: emcee\n",
      "  Attempting uninstall: emcee\n",
      "    Found existing installation: emcee 0.0.0\n",
      "    Uninstalling emcee-0.0.0:\n",
      "      Successfully uninstalled emcee-0.0.0\n",
      "Successfully installed emcee-3.0.2\n",
      "Note: you may need to restart the kernel to use updated packages.\n"
     ]
    }
   ],
   "source": [
    "pip install -U emcee"
   ]
  },
  {
   "cell_type": "markdown",
   "metadata": {},
   "source": [
    "# SIE"
   ]
  },
  {
   "cell_type": "code",
   "execution_count": 3,
   "metadata": {},
   "outputs": [
    {
     "name": "stdout",
     "output_type": "stream",
     "text": [
      "Collecting sie\n",
      "  Cloning git://github.com/bblais/Statistical-Inference-for-Everyone to /Users/bblais/tmp/pip-install-kb53jmyc/sie\n",
      "  Running command git clone -q git://github.com/bblais/Statistical-Inference-for-Everyone /Users/bblais/tmp/pip-install-kb53jmyc/sie\n",
      "Building wheels for collected packages: sie\n",
      "  Building wheel for sie (setup.py) ... \u001b[?25ldone\n",
      "\u001b[?25h  Created wheel for sie: filename=sie-0.0.6-py3-none-any.whl size=13335 sha256=5a2c238ab0b496380430a58b0a8394522af167f799506a02ba1d344e33ceca6e\n",
      "  Stored in directory: /Users/bblais/tmp/pip-ephem-wheel-cache-_o3_etr3/wheels/24/4f/9e/df3f558b8f615c97e01eb1d3c58a1ff90af34f54016e75186b\n",
      "Successfully built sie\n",
      "Installing collected packages: sie\n",
      "Successfully installed sie-0.0.6\n",
      "Note: you may need to restart the kernel to use updated packages.\n"
     ]
    }
   ],
   "source": [
    "pip install \"git+git://github.com/bblais/Statistical-Inference-for-Everyone#egg=sie&subdirectory=python/sie\" --upgrade"
   ]
  },
  {
   "cell_type": "code",
   "execution_count": null,
   "metadata": {},
   "outputs": [],
   "source": []
  }
 ],
 "metadata": {
  "kernelspec": {
   "display_name": "Python 3",
   "language": "python",
   "name": "python3"
  },
  "language_info": {
   "codemirror_mode": {
    "name": "ipython",
    "version": 3
   },
   "file_extension": ".py",
   "mimetype": "text/x-python",
   "name": "python",
   "nbconvert_exporter": "python",
   "pygments_lexer": "ipython3",
   "version": "3.7.6"
  }
 },
 "nbformat": 4,
 "nbformat_minor": 4
}
